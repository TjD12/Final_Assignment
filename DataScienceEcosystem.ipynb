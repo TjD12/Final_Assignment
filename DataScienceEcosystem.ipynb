{
  "metadata": {
    "kernelspec": {
      "name": "python",
      "display_name": "Python (Pyodide)",
      "language": "python"
    },
    "language_info": {
      "codemirror_mode": {
        "name": "python",
        "version": 3
      },
      "file_extension": ".py",
      "mimetype": "text/x-python",
      "name": "python",
      "nbconvert_exporter": "python",
      "pygments_lexer": "ipython3",
      "version": "3.8"
    }
  },
  "nbformat_minor": 5,
  "nbformat": 4,
  "cells": [
    {
      "id": "dab42ce2-8da2-43b1-8d22-45d7fc36ec16",
      "cell_type": "markdown",
      "source": "# Data Science Tools and Ecosystem",
      "metadata": {}
    },
    {
      "id": "76028e15-9e29-4f1b-a8f4-5b1530de5e41",
      "cell_type": "markdown",
      "source": "In this notebook, Data Science Tools and Ecosystem are summarized.",
      "metadata": {}
    },
    {
      "id": "2b5e82b9-eb82-480b-842c-b9eb0887adfc",
      "cell_type": "markdown",
      "source": "<b>Objectives:<b>\n- List popular languages for Data Science\n- List common libraries used in Data Science\n- List Data Science Tools\n- Demonstrate arithmetic expressions",
      "metadata": {}
    },
    {
      "id": "441bbcc2-8892-4518-aaef-a3a6a7c5ef71",
      "cell_type": "markdown",
      "source": "Some of the popular languages that Data Scientists use are:\n1. Python\n2. R\n3. SQL\n4. Java",
      "metadata": {}
    },
    {
      "id": "c4b8ef4e-e330-4b27-96c3-abb823dca093",
      "cell_type": "markdown",
      "source": "Some of the commonly used libraries used by Data Scientists include:\n1. Pandas\n2. NumPy\n3. Matplotlib\n4. TensorFlow",
      "metadata": {}
    },
    {
      "id": "e35c812f-8904-431e-adf3-34319ae50bd4",
      "cell_type": "markdown",
      "source": "| Data Science Tools |\n|-------------------|\n| Jupyter Notebook |\n| Apache Spark |\n| TensorFlow |",
      "metadata": {}
    },
    {
      "id": "957420e0-0c8f-40d5-9b12-500ce747ac44",
      "cell_type": "code",
      "source": "%%html\n<style>\ntable {float:left}\n</style>",
      "metadata": {
        "trusted": true
      },
      "outputs": [
        {
          "output_type": "display_data",
          "data": {
            "text/plain": "<IPython.core.display.HTML object>",
            "text/html": "<style>\ntable {float:left}\n</style>\n"
          },
          "metadata": {}
        }
      ],
      "execution_count": 2
    },
    {
      "id": "6b9fb7c9-2b26-4188-a187-db62fdead7e5",
      "cell_type": "markdown",
      "source": "### Below are a few examples fo evaluating arithmetic expressions in Python.",
      "metadata": {}
    },
    {
      "id": "f2ed1001-4d7d-4baa-9a9f-ff5f0448a906",
      "cell_type": "markdown",
      "source": "This is a simple arithmetic expression to multiply then add integers:",
      "metadata": {}
    },
    {
      "id": "999587f9-f26d-4c6f-9bed-996ff5b070ec",
      "cell_type": "code",
      "source": "(3*4)+5",
      "metadata": {
        "trusted": true
      },
      "outputs": [
        {
          "execution_count": 6,
          "output_type": "execute_result",
          "data": {
            "text/plain": "17"
          },
          "metadata": {}
        }
      ],
      "execution_count": 6
    },
    {
      "id": "4339240f-47d9-46d3-953d-a83ca2303269",
      "cell_type": "markdown",
      "source": "This will convert 200 minutes to hours by dividing by 60.",
      "metadata": {}
    },
    {
      "id": "8f8a78cb-112c-4b1a-a339-9b314caf4f7e",
      "cell_type": "code",
      "source": "minutes = 200\nhours = minutes / 60\nprint(hours)",
      "metadata": {
        "trusted": true
      },
      "outputs": [
        {
          "name": "stdout",
          "output_type": "stream",
          "text": "3.3333333333333335\n"
        }
      ],
      "execution_count": 7
    },
    {
      "id": "9cf6e9fb-3528-4d3a-ba94-fd5d89533bec",
      "cell_type": "markdown",
      "source": "## Author\nTom Diwisch",
      "metadata": {}
    }
  ]
}